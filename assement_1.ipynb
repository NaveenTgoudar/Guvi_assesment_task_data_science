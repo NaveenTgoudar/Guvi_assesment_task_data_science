{
  "nbformat": 4,
  "nbformat_minor": 0,
  "metadata": {
    "colab": {
      "name": "assement_1.ipynb",
      "provenance": [],
      "collapsed_sections": [],
      "authorship_tag": "ABX9TyMn/vvmSojCrjvplLMsm3n1",
      "include_colab_link": true
    },
    "kernelspec": {
      "name": "python3",
      "display_name": "Python 3"
    },
    "language_info": {
      "name": "python"
    }
  },
  "cells": [
    {
      "cell_type": "markdown",
      "metadata": {
        "id": "view-in-github",
        "colab_type": "text"
      },
      "source": [
        "<a href=\"https://colab.research.google.com/github/NaveenTgoudar/Guvi_assesment_task_data_science/blob/main/assement_1.ipynb\" target=\"_parent\"><img src=\"https://colab.research.google.com/assets/colab-badge.svg\" alt=\"Open In Colab\"/></a>"
      ]
    },
    {
      "cell_type": "code",
      "execution_count": null,
      "metadata": {
        "id": "ZNtDqpRA2_lL"
      },
      "outputs": [],
      "source": [
        "def registration():\n",
        "  import re\n",
        "  db = open(\"email_register.txt\",\"r\")\n",
        " \n",
        "  username = input(\"enter the username: \")\n",
        "  username = username+\"@gmail.com\"\n",
        "  \n",
        "  format = r'\\b[A-Za-z.]+@[a-zA-Z]+.[a-zA-Z]{2,}\\b'\n",
        "  if (re.fullmatch(format,username)):\n",
        "     print(\"format successfull\")\n",
        "     print(username)\n",
        "  else:\n",
        "      print (\"invalid\")\n",
        "      registration()\n",
        "\n",
        "  password = input(\"enter password: \")\n",
        "  password1 = input(\"confirm password:\")\n",
        "  if password != password1:\n",
        "        print(\"password doesn't match\")\n",
        "        registration()\n",
        "  for passowrd in password:\n",
        "    if len(password)>6 and len(password)<15:\n",
        "      continue\n",
        "    else:\n",
        "      print(\"password length not matching\")\n",
        "      registration()\n",
        "\n",
        "  for passowrd in password:\n",
        "    if re.search(\"[a-z]\",password):\n",
        "       continue\n",
        "    else:\n",
        "      print(\"password not in lower case\")\n",
        "      registration()\n",
        "\n",
        "  for passowrd in password:\n",
        "    if re.search(\"[A-Z]\",password):\n",
        "       continue\n",
        "    else:\n",
        "      print(\"password dosen't have upper case\")\n",
        "      registration()\n",
        "\n",
        "  for passowrd in password:\n",
        "    if re.search(\"[0-9]\",password):\n",
        "       continue\n",
        "    else:\n",
        "      print(\"password not having numeric\")\n",
        "      registration()\n",
        "    \n",
        "  for passowrd in password:\n",
        "    if re.search(\"[@#$%^&*()_]\",password):\n",
        "      continue\n",
        "    else:\n",
        "      print(\"password not having Special characters\")\n",
        "      registration()\n",
        "  print(\"success\")\n",
        "\n",
        "  db = open(\"email_register.txt\",\"a\")\n",
        "  db.write(username+\" \"+password+\"\\n\")\n",
        "registration()"
      ]
    }
  ]
}