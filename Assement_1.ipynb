{
  "nbformat": 4,
  "nbformat_minor": 0,
  "metadata": {
    "colab": {
      "name": "Doubts.ipynb",
      "provenance": [],
      "collapsed_sections": [],
      "include_colab_link": true
    },
    "kernelspec": {
      "name": "python3",
      "display_name": "Python 3"
    },
    "language_info": {
      "name": "python"
    }
  },
  "cells": [
    {
      "cell_type": "markdown",
      "metadata": {
        "id": "view-in-github",
        "colab_type": "text"
      },
      "source": [
        "<a href=\"https://colab.research.google.com/github/NaveenTgoudar/Guvi_assesment_task_data_science/blob/main/Assement_1.ipynb\" target=\"_parent\"><img src=\"https://colab.research.google.com/assets/colab-badge.svg\" alt=\"Open In Colab\"/></a>"
      ]
    },
    {
      "cell_type": "markdown",
      "source": [
        "First-line indicates two integers separated by space. Second-line indicates three integers separated by space. Third-line indicates three integers separated by space\n",
        "\n",
        "Output Description:\n",
        "Print the input in the same format.\n",
        "\n",
        "Sample Input :\n",
        "2 5\n",
        "2 5 6\n",
        "2 4 5\n",
        "Sample Output :\n",
        "2 5\n",
        "2 5 6\n",
        "2 4 5"
      ],
      "metadata": {
        "id": "oS7EwsB3VR5a"
      }
    },
    {
      "cell_type": "code",
      "source": [],
      "metadata": {
        "id": "KWc1MThaviLo"
      },
      "execution_count": null,
      "outputs": []
    },
    {
      "cell_type": "code",
      "source": [
        "#akash\n",
        "def registration():\n",
        "  import re\n",
        " # username = input(\"enter the username: \")\n",
        "  password = input(\"enter password: \")\n",
        "  password1 = input(\"confirm password:\")\n",
        "  if password != password1:\n",
        "        print(\"password doesn't match\")\n",
        "        registration()\n",
        "  for passowrd in password:\n",
        "    if len(password)>6 and len(password)<15:\n",
        "      continue\n",
        "    else:\n",
        "      print(\"password length not matching\")\n",
        "      registration()\n",
        "\n",
        "  for passowrd in password:\n",
        "    if re.search(\"[a-z]\",password):\n",
        "       continue\n",
        "    else:\n",
        "      print(\"password not in lower case\")\n",
        "      registration()\n",
        "\n",
        "  for passowrd in password:\n",
        "    if re.search(\"[A-Z]\",password):\n",
        "       continue\n",
        "    else:\n",
        "      print(\"password dosen't have upper case\")\n",
        "      registration()\n",
        "\n",
        "  for passowrd in password:\n",
        "    if re.search(\"[0-9]\",password):\n",
        "       continue\n",
        "    else:\n",
        "      print(\"password not having numeric\")\n",
        "      registration()\n",
        "    \n",
        "  for passowrd in password:\n",
        "    if re.search(\"[@#$%^&*()_]\",password):\n",
        "      continue\n",
        "    else:\n",
        "      print(\"password not having SScial characters\")\n",
        "      registration()\n",
        "registration()\n",
        "\n",
        "\n"
      ],
      "metadata": {
        "colab": {
          "base_uri": "https://localhost:8080/"
        },
        "id": "weHU3lk0vi8a",
        "outputId": "800cba98-1679-4454-d32c-043293176f7e"
      },
      "execution_count": null,
      "outputs": [
        {
          "output_type": "stream",
          "name": "stdout",
          "text": [
            "enter password: Hello123\n",
            "confirm password:Hello123\n",
            "password not having SScial characters\n"
          ]
        }
      ]
    },
    {
      "cell_type": "code",
      "source": [
        "def registration():\n",
        "  import re\n",
        " # username = input(\"enter the username: \")\n",
        "  \n",
        "  password = input(\"enter password: \")\n",
        "  password1 = input(\"confirm password:\")\n",
        "  if password != password1:\n",
        "        print(\"password doesn't match\")\n",
        "        registration()\n",
        "  for passowrd in password:\n",
        "    if len(password)>6 and len(password)<15:\n",
        "      continue\n",
        "    else:\n",
        "      print(\"password length not matching\")\n",
        "      registration()\n",
        "\n",
        "  for passowrd in password:\n",
        "    if re.search(\"[a-z]\",password):\n",
        "       continue\n",
        "    else:\n",
        "      print(\"password not in lower case\")\n",
        "      registration()\n",
        "\n",
        "  for passowrd in password:\n",
        "    if re.search(\"[A-Z]\",password):\n",
        "       continue\n",
        "    else:\n",
        "      print(\"password dosen't have upper case\")\n",
        "      registration()\n",
        "\n",
        "  for passowrd in password:\n",
        "    if re.search(\"[0-9]\",password):\n",
        "       continue\n",
        "    else:\n",
        "      print(\"password not having numeric\")\n",
        "      registration()\n",
        "    \n",
        "  for passowrd in password:\n",
        "    if re.search(\"[@#$%^&*()_]\",password):\n",
        "      continue\n",
        "    else:\n",
        "      print(\"password not having Special characters\")\n",
        "      registration()\n",
        "  print(\"success\")\n",
        "registration()\n",
        "\n",
        "    \n",
        "\n"
      ],
      "metadata": {
        "id": "dE4DCriSKcZK"
      },
      "execution_count": null,
      "outputs": []
    },
    {
      "cell_type": "code",
      "source": [
        "def registration():\n",
        "  import re\n",
        "  db = open(\"email_register.txt\",\"r\")\n",
        " \n",
        "  username = input(\"enter the username: \")\n",
        "  username = username+\"@gmail.com\"\n",
        "  \n",
        "  format = r'\\b[A-Za-z.]+@[a-zA-Z]+.[a-zA-Z]{2,}\\b'\n",
        "  if (re.fullmatch(format,username)):\n",
        "     print(\"format successfull\")\n",
        "     print(username)\n",
        "  else:\n",
        "      print (\"invalid\")\n",
        "      registration()\n",
        "\n",
        "  password = input(\"enter password: \")\n",
        "  password1 = input(\"confirm password:\")\n",
        "  if password != password1:\n",
        "        print(\"password doesn't match\")\n",
        "        registration()\n",
        "  for passowrd in password:\n",
        "    if len(password)>6 and len(password)<15:\n",
        "      continue\n",
        "    else:\n",
        "      print(\"password length not matching\")\n",
        "      registration()\n",
        "\n",
        "  for passowrd in password:\n",
        "    if re.search(\"[a-z]\",password):\n",
        "       continue\n",
        "    else:\n",
        "      print(\"password not in lower case\")\n",
        "      registration()\n",
        "\n",
        "  for passowrd in password:\n",
        "    if re.search(\"[A-Z]\",password):\n",
        "       continue\n",
        "    else:\n",
        "      print(\"password dosen't have upper case\")\n",
        "      registration()\n",
        "\n",
        "  for passowrd in password:\n",
        "    if re.search(\"[0-9]\",password):\n",
        "       continue\n",
        "    else:\n",
        "      print(\"password not having numeric\")\n",
        "      registration()\n",
        "    \n",
        "  for passowrd in password:\n",
        "    if re.search(\"[@#$%^&*()_]\",password):\n",
        "      continue\n",
        "    else:\n",
        "      print(\"password not having Special characters\")\n",
        "      registration()\n",
        "  print(\"success\")\n",
        "\n",
        "  db = open(\"email_register.txt\",\"a\")\n",
        "  db.write(username+\" \"+password+\"\\n\")\n",
        "registration()"
      ],
      "metadata": {
        "id": "5r4vgugUjwdl"
      },
      "execution_count": null,
      "outputs": []
    }
  ]
}